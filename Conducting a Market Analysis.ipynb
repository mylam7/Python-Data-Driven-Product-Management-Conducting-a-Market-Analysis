{
 "cells": [
  {
   "cell_type": "code",
   "execution_count": null,
   "id": "316d2306",
   "metadata": {},
   "outputs": [],
   "source": [
    "#Help the fitness studio explore interest in workouts at a global and national level."
   ]
  },
  {
   "cell_type": "code",
   "execution_count": 4,
   "id": "350e8e62",
   "metadata": {},
   "outputs": [],
   "source": [
    "import pandas as pd\n",
    "import matplotlib.pyplot as plt"
   ]
  },
  {
   "cell_type": "code",
   "execution_count": 39,
   "id": "727218e5",
   "metadata": {},
   "outputs": [],
   "source": [
    "df_workout_geo = pd.read_csv(\"C:\\\\Users\\\\My Lam\\\\downloads\\\\data\\\\workout_geo.csv\", index_col =0)"
   ]
  },
  {
   "cell_type": "code",
   "execution_count": 17,
   "id": "b8ec9c4b",
   "metadata": {},
   "outputs": [],
   "source": [
    "df_workout = pd.read_csv(\"C:\\\\Users\\\\My Lam\\\\downloads\\\\data\\\\workout.csv\")"
   ]
  },
  {
   "cell_type": "code",
   "execution_count": 47,
   "id": "0d6e48b4",
   "metadata": {},
   "outputs": [],
   "source": [
    "df_three_keywords_geo = pd.read_csv(\"C:\\\\Users\\\\My Lam\\\\downloads\\\\data\\\\three_keywords_geo.csv\", index_col = 0)"
   ]
  },
  {
   "cell_type": "code",
   "execution_count": 19,
   "id": "853babdf",
   "metadata": {},
   "outputs": [],
   "source": [
    "df_three_keywords = pd.read_csv(\"C:\\\\Users\\\\My Lam\\\\downloads\\\\data\\\\three_keywords.csv\")"
   ]
  },
  {
   "cell_type": "code",
   "execution_count": 43,
   "id": "782b291d",
   "metadata": {},
   "outputs": [
    {
     "data": {
      "text/html": [
       "<div>\n",
       "<style scoped>\n",
       "    .dataframe tbody tr th:only-of-type {\n",
       "        vertical-align: middle;\n",
       "    }\n",
       "\n",
       "    .dataframe tbody tr th {\n",
       "        vertical-align: top;\n",
       "    }\n",
       "\n",
       "    .dataframe thead th {\n",
       "        text-align: right;\n",
       "    }\n",
       "</style>\n",
       "<table border=\"1\" class=\"dataframe\">\n",
       "  <thead>\n",
       "    <tr style=\"text-align: right;\">\n",
       "      <th></th>\n",
       "      <th>workout_2018_2023</th>\n",
       "    </tr>\n",
       "    <tr>\n",
       "      <th>country</th>\n",
       "      <th></th>\n",
       "    </tr>\n",
       "  </thead>\n",
       "  <tbody>\n",
       "    <tr>\n",
       "      <th>Guam</th>\n",
       "      <td>NaN</td>\n",
       "    </tr>\n",
       "    <tr>\n",
       "      <th>Falkland Islands (Islas Malvinas)</th>\n",
       "      <td>NaN</td>\n",
       "    </tr>\n",
       "    <tr>\n",
       "      <th>Cook Islands</th>\n",
       "      <td>NaN</td>\n",
       "    </tr>\n",
       "    <tr>\n",
       "      <th>Brunei</th>\n",
       "      <td>NaN</td>\n",
       "    </tr>\n",
       "    <tr>\n",
       "      <th>Palau</th>\n",
       "      <td>NaN</td>\n",
       "    </tr>\n",
       "    <tr>\n",
       "      <th>...</th>\n",
       "      <td>...</td>\n",
       "    </tr>\n",
       "    <tr>\n",
       "      <th>Tokelau</th>\n",
       "      <td>NaN</td>\n",
       "    </tr>\n",
       "    <tr>\n",
       "      <th>Tuvalu</th>\n",
       "      <td>NaN</td>\n",
       "    </tr>\n",
       "    <tr>\n",
       "      <th>U.S. Outlying Islands</th>\n",
       "      <td>NaN</td>\n",
       "    </tr>\n",
       "    <tr>\n",
       "      <th>Vatican City</th>\n",
       "      <td>NaN</td>\n",
       "    </tr>\n",
       "    <tr>\n",
       "      <th>Wallis &amp; Futuna</th>\n",
       "      <td>NaN</td>\n",
       "    </tr>\n",
       "  </tbody>\n",
       "</table>\n",
       "<p>250 rows × 1 columns</p>\n",
       "</div>"
      ],
      "text/plain": [
       "                                   workout_2018_2023\n",
       "country                                             \n",
       "Guam                                             NaN\n",
       "Falkland Islands (Islas Malvinas)                NaN\n",
       "Cook Islands                                     NaN\n",
       "Brunei                                           NaN\n",
       "Palau                                            NaN\n",
       "...                                              ...\n",
       "Tokelau                                          NaN\n",
       "Tuvalu                                           NaN\n",
       "U.S. Outlying Islands                            NaN\n",
       "Vatican City                                     NaN\n",
       "Wallis & Futuna                                  NaN\n",
       "\n",
       "[250 rows x 1 columns]"
      ]
     },
     "execution_count": 43,
     "metadata": {},
     "output_type": "execute_result"
    }
   ],
   "source": [
    "df_workout_geo"
   ]
  },
  {
   "cell_type": "code",
   "execution_count": 21,
   "id": "b706e4be",
   "metadata": {},
   "outputs": [
    {
     "data": {
      "text/html": [
       "<div>\n",
       "<style scoped>\n",
       "    .dataframe tbody tr th:only-of-type {\n",
       "        vertical-align: middle;\n",
       "    }\n",
       "\n",
       "    .dataframe tbody tr th {\n",
       "        vertical-align: top;\n",
       "    }\n",
       "\n",
       "    .dataframe thead th {\n",
       "        text-align: right;\n",
       "    }\n",
       "</style>\n",
       "<table border=\"1\" class=\"dataframe\">\n",
       "  <thead>\n",
       "    <tr style=\"text-align: right;\">\n",
       "      <th></th>\n",
       "      <th>month</th>\n",
       "      <th>workout_worldwide</th>\n",
       "    </tr>\n",
       "  </thead>\n",
       "  <tbody>\n",
       "    <tr>\n",
       "      <th>0</th>\n",
       "      <td>2018-03</td>\n",
       "      <td>59</td>\n",
       "    </tr>\n",
       "    <tr>\n",
       "      <th>1</th>\n",
       "      <td>2018-04</td>\n",
       "      <td>61</td>\n",
       "    </tr>\n",
       "    <tr>\n",
       "      <th>2</th>\n",
       "      <td>2018-05</td>\n",
       "      <td>57</td>\n",
       "    </tr>\n",
       "    <tr>\n",
       "      <th>3</th>\n",
       "      <td>2018-06</td>\n",
       "      <td>56</td>\n",
       "    </tr>\n",
       "    <tr>\n",
       "      <th>4</th>\n",
       "      <td>2018-07</td>\n",
       "      <td>51</td>\n",
       "    </tr>\n",
       "    <tr>\n",
       "      <th>...</th>\n",
       "      <td>...</td>\n",
       "      <td>...</td>\n",
       "    </tr>\n",
       "    <tr>\n",
       "      <th>56</th>\n",
       "      <td>2022-11</td>\n",
       "      <td>47</td>\n",
       "    </tr>\n",
       "    <tr>\n",
       "      <th>57</th>\n",
       "      <td>2022-12</td>\n",
       "      <td>44</td>\n",
       "    </tr>\n",
       "    <tr>\n",
       "      <th>58</th>\n",
       "      <td>2023-01</td>\n",
       "      <td>62</td>\n",
       "    </tr>\n",
       "    <tr>\n",
       "      <th>59</th>\n",
       "      <td>2023-02</td>\n",
       "      <td>57</td>\n",
       "    </tr>\n",
       "    <tr>\n",
       "      <th>60</th>\n",
       "      <td>2023-03</td>\n",
       "      <td>55</td>\n",
       "    </tr>\n",
       "  </tbody>\n",
       "</table>\n",
       "<p>61 rows × 2 columns</p>\n",
       "</div>"
      ],
      "text/plain": [
       "      month  workout_worldwide\n",
       "0   2018-03                 59\n",
       "1   2018-04                 61\n",
       "2   2018-05                 57\n",
       "3   2018-06                 56\n",
       "4   2018-07                 51\n",
       "..      ...                ...\n",
       "56  2022-11                 47\n",
       "57  2022-12                 44\n",
       "58  2023-01                 62\n",
       "59  2023-02                 57\n",
       "60  2023-03                 55\n",
       "\n",
       "[61 rows x 2 columns]"
      ]
     },
     "execution_count": 21,
     "metadata": {},
     "output_type": "execute_result"
    }
   ],
   "source": [
    "df_workout"
   ]
  },
  {
   "cell_type": "code",
   "execution_count": 48,
   "id": "560d52e4",
   "metadata": {},
   "outputs": [
    {
     "data": {
      "text/html": [
       "<div>\n",
       "<style scoped>\n",
       "    .dataframe tbody tr th:only-of-type {\n",
       "        vertical-align: middle;\n",
       "    }\n",
       "\n",
       "    .dataframe tbody tr th {\n",
       "        vertical-align: top;\n",
       "    }\n",
       "\n",
       "    .dataframe thead th {\n",
       "        text-align: right;\n",
       "    }\n",
       "</style>\n",
       "<table border=\"1\" class=\"dataframe\">\n",
       "  <thead>\n",
       "    <tr style=\"text-align: right;\">\n",
       "      <th></th>\n",
       "      <th>home_workout_2018_2023</th>\n",
       "      <th>gym_workout_2018_2023</th>\n",
       "      <th>home_gym_2018_2023</th>\n",
       "    </tr>\n",
       "    <tr>\n",
       "      <th>Country</th>\n",
       "      <th></th>\n",
       "      <th></th>\n",
       "      <th></th>\n",
       "    </tr>\n",
       "  </thead>\n",
       "  <tbody>\n",
       "    <tr>\n",
       "      <th>Gibraltar</th>\n",
       "      <td>NaN</td>\n",
       "      <td>NaN</td>\n",
       "      <td>NaN</td>\n",
       "    </tr>\n",
       "    <tr>\n",
       "      <th>Lesotho</th>\n",
       "      <td>NaN</td>\n",
       "      <td>NaN</td>\n",
       "      <td>NaN</td>\n",
       "    </tr>\n",
       "    <tr>\n",
       "      <th>Guam</th>\n",
       "      <td>NaN</td>\n",
       "      <td>NaN</td>\n",
       "      <td>NaN</td>\n",
       "    </tr>\n",
       "    <tr>\n",
       "      <th>Botswana</th>\n",
       "      <td>NaN</td>\n",
       "      <td>NaN</td>\n",
       "      <td>NaN</td>\n",
       "    </tr>\n",
       "    <tr>\n",
       "      <th>Brunei</th>\n",
       "      <td>NaN</td>\n",
       "      <td>NaN</td>\n",
       "      <td>NaN</td>\n",
       "    </tr>\n",
       "    <tr>\n",
       "      <th>...</th>\n",
       "      <td>...</td>\n",
       "      <td>...</td>\n",
       "      <td>...</td>\n",
       "    </tr>\n",
       "    <tr>\n",
       "      <th>Tokelau</th>\n",
       "      <td>NaN</td>\n",
       "      <td>NaN</td>\n",
       "      <td>NaN</td>\n",
       "    </tr>\n",
       "    <tr>\n",
       "      <th>Tuvalu</th>\n",
       "      <td>NaN</td>\n",
       "      <td>NaN</td>\n",
       "      <td>NaN</td>\n",
       "    </tr>\n",
       "    <tr>\n",
       "      <th>U.S. Outlying Islands</th>\n",
       "      <td>NaN</td>\n",
       "      <td>NaN</td>\n",
       "      <td>NaN</td>\n",
       "    </tr>\n",
       "    <tr>\n",
       "      <th>Vatican City</th>\n",
       "      <td>NaN</td>\n",
       "      <td>NaN</td>\n",
       "      <td>NaN</td>\n",
       "    </tr>\n",
       "    <tr>\n",
       "      <th>Wallis &amp; Futuna</th>\n",
       "      <td>NaN</td>\n",
       "      <td>NaN</td>\n",
       "      <td>NaN</td>\n",
       "    </tr>\n",
       "  </tbody>\n",
       "</table>\n",
       "<p>250 rows × 3 columns</p>\n",
       "</div>"
      ],
      "text/plain": [
       "                       home_workout_2018_2023  gym_workout_2018_2023  \\\n",
       "Country                                                                \n",
       "Gibraltar                                 NaN                    NaN   \n",
       "Lesotho                                   NaN                    NaN   \n",
       "Guam                                      NaN                    NaN   \n",
       "Botswana                                  NaN                    NaN   \n",
       "Brunei                                    NaN                    NaN   \n",
       "...                                       ...                    ...   \n",
       "Tokelau                                   NaN                    NaN   \n",
       "Tuvalu                                    NaN                    NaN   \n",
       "U.S. Outlying Islands                     NaN                    NaN   \n",
       "Vatican City                              NaN                    NaN   \n",
       "Wallis & Futuna                           NaN                    NaN   \n",
       "\n",
       "                       home_gym_2018_2023  \n",
       "Country                                    \n",
       "Gibraltar                             NaN  \n",
       "Lesotho                               NaN  \n",
       "Guam                                  NaN  \n",
       "Botswana                              NaN  \n",
       "Brunei                                NaN  \n",
       "...                                   ...  \n",
       "Tokelau                               NaN  \n",
       "Tuvalu                                NaN  \n",
       "U.S. Outlying Islands                 NaN  \n",
       "Vatican City                          NaN  \n",
       "Wallis & Futuna                       NaN  \n",
       "\n",
       "[250 rows x 3 columns]"
      ]
     },
     "execution_count": 48,
     "metadata": {},
     "output_type": "execute_result"
    }
   ],
   "source": [
    "df_three_keywords_geo"
   ]
  },
  {
   "cell_type": "code",
   "execution_count": 23,
   "id": "9c312495",
   "metadata": {
    "scrolled": true
   },
   "outputs": [
    {
     "data": {
      "text/html": [
       "<div>\n",
       "<style scoped>\n",
       "    .dataframe tbody tr th:only-of-type {\n",
       "        vertical-align: middle;\n",
       "    }\n",
       "\n",
       "    .dataframe tbody tr th {\n",
       "        vertical-align: top;\n",
       "    }\n",
       "\n",
       "    .dataframe thead th {\n",
       "        text-align: right;\n",
       "    }\n",
       "</style>\n",
       "<table border=\"1\" class=\"dataframe\">\n",
       "  <thead>\n",
       "    <tr style=\"text-align: right;\">\n",
       "      <th></th>\n",
       "      <th>month</th>\n",
       "      <th>home_workout_worldwide</th>\n",
       "      <th>gym_workout_worldwide</th>\n",
       "      <th>home_gym_worldwide</th>\n",
       "    </tr>\n",
       "  </thead>\n",
       "  <tbody>\n",
       "    <tr>\n",
       "      <th>0</th>\n",
       "      <td>2018-03</td>\n",
       "      <td>12</td>\n",
       "      <td>16</td>\n",
       "      <td>10</td>\n",
       "    </tr>\n",
       "    <tr>\n",
       "      <th>1</th>\n",
       "      <td>2018-04</td>\n",
       "      <td>12</td>\n",
       "      <td>18</td>\n",
       "      <td>10</td>\n",
       "    </tr>\n",
       "    <tr>\n",
       "      <th>2</th>\n",
       "      <td>2018-05</td>\n",
       "      <td>13</td>\n",
       "      <td>16</td>\n",
       "      <td>9</td>\n",
       "    </tr>\n",
       "    <tr>\n",
       "      <th>3</th>\n",
       "      <td>2018-06</td>\n",
       "      <td>12</td>\n",
       "      <td>17</td>\n",
       "      <td>9</td>\n",
       "    </tr>\n",
       "    <tr>\n",
       "      <th>4</th>\n",
       "      <td>2018-07</td>\n",
       "      <td>12</td>\n",
       "      <td>17</td>\n",
       "      <td>9</td>\n",
       "    </tr>\n",
       "    <tr>\n",
       "      <th>...</th>\n",
       "      <td>...</td>\n",
       "      <td>...</td>\n",
       "      <td>...</td>\n",
       "      <td>...</td>\n",
       "    </tr>\n",
       "    <tr>\n",
       "      <th>56</th>\n",
       "      <td>2022-11</td>\n",
       "      <td>11</td>\n",
       "      <td>18</td>\n",
       "      <td>12</td>\n",
       "    </tr>\n",
       "    <tr>\n",
       "      <th>57</th>\n",
       "      <td>2022-12</td>\n",
       "      <td>11</td>\n",
       "      <td>16</td>\n",
       "      <td>11</td>\n",
       "    </tr>\n",
       "    <tr>\n",
       "      <th>58</th>\n",
       "      <td>2023-01</td>\n",
       "      <td>17</td>\n",
       "      <td>22</td>\n",
       "      <td>15</td>\n",
       "    </tr>\n",
       "    <tr>\n",
       "      <th>59</th>\n",
       "      <td>2023-02</td>\n",
       "      <td>14</td>\n",
       "      <td>21</td>\n",
       "      <td>12</td>\n",
       "    </tr>\n",
       "    <tr>\n",
       "      <th>60</th>\n",
       "      <td>2023-03</td>\n",
       "      <td>13</td>\n",
       "      <td>19</td>\n",
       "      <td>12</td>\n",
       "    </tr>\n",
       "  </tbody>\n",
       "</table>\n",
       "<p>61 rows × 4 columns</p>\n",
       "</div>"
      ],
      "text/plain": [
       "      month  home_workout_worldwide  gym_workout_worldwide  home_gym_worldwide\n",
       "0   2018-03                      12                     16                  10\n",
       "1   2018-04                      12                     18                  10\n",
       "2   2018-05                      13                     16                   9\n",
       "3   2018-06                      12                     17                   9\n",
       "4   2018-07                      12                     17                   9\n",
       "..      ...                     ...                    ...                 ...\n",
       "56  2022-11                      11                     18                  12\n",
       "57  2022-12                      11                     16                  11\n",
       "58  2023-01                      17                     22                  15\n",
       "59  2023-02                      14                     21                  12\n",
       "60  2023-03                      13                     19                  12\n",
       "\n",
       "[61 rows x 4 columns]"
      ]
     },
     "execution_count": 23,
     "metadata": {},
     "output_type": "execute_result"
    }
   ],
   "source": [
    "df_three_keywords"
   ]
  },
  {
   "cell_type": "code",
   "execution_count": 26,
   "id": "5a3d6c3b",
   "metadata": {},
   "outputs": [
    {
     "data": {
      "image/png": "[encoded data removed]",
      "text/plain": [
       "<Figure size 1200x600 with 1 Axes>"
      ]
     },
     "metadata": {},
     "output_type": "display_data"
    }
   ],
   "source": [
    "#When was the global search for 'workout' at its peak?\n",
    "plt.figure(figsize=(12,6))\n",
    "plt.plot(df_workout[\"month\"], df_workout[\"workout_worldwide\"])\n",
    "plt.xticks(rotation=90)\n",
    "plt.show()\n",
    "\n",
    "year_str = \"2020\"\n"
   ]
  },
  {
   "cell_type": "code",
   "execution_count": 42,
   "id": "f037d035",
   "metadata": {},
   "outputs": [
    {
     "name": "stdout",
     "output_type": "stream",
     "text": [
      "workout_2018_2023    100.0\n",
      "Name: United States, dtype: float64\n"
     ]
    }
   ],
   "source": [
    "#What country has the highest interest for workouts among the following: United States, Australia, or Japan\n",
    "print(df_workout_geo.loc[\"United States\"])"
   ]
  },
  {
   "cell_type": "code",
   "execution_count": 44,
   "id": "1838458b",
   "metadata": {},
   "outputs": [
    {
     "name": "stdout",
     "output_type": "stream",
     "text": [
      "workout_2018_2023    77.0\n",
      "Name: Australia, dtype: float64\n"
     ]
    }
   ],
   "source": [
    "print(df_workout_geo.loc[\"Australia\"])"
   ]
  },
  {
   "cell_type": "code",
   "execution_count": 45,
   "id": "7d54725c",
   "metadata": {},
   "outputs": [
    {
     "name": "stdout",
     "output_type": "stream",
     "text": [
      "workout_2018_2023    1.0\n",
      "Name: Japan, dtype: float64\n"
     ]
    }
   ],
   "source": [
    "print(df_workout_geo.loc[\"Japan\"])"
   ]
  },
  {
   "cell_type": "code",
   "execution_count": 46,
   "id": "39ece1af",
   "metadata": {},
   "outputs": [],
   "source": [
    "top_country = \"United States\""
   ]
  },
  {
   "cell_type": "code",
   "execution_count": 55,
   "id": "bfbdba67",
   "metadata": {},
   "outputs": [
    {
     "name": "stdout",
     "output_type": "stream",
     "text": [
      "home_workout_2018_2023    52.0\n",
      "gym_workout_2018_2023     38.0\n",
      "home_gym_2018_2023        10.0\n",
      "Name: Philippines, dtype: float64\n"
     ]
    }
   ],
   "source": [
    "#You'd be interested in expanding your virtual home workouts offering to either the Philippines or Malaysia. Which of the two countries has the highest interest in home workouts? Identify the country and save it as home_workout_geo.\n",
    "print(df_three_keywords_geo.loc[\"Philippines\", :])"
   ]
  },
  {
   "cell_type": "code",
   "execution_count": 54,
   "id": "16b3d7c2",
   "metadata": {},
   "outputs": [
    {
     "name": "stdout",
     "output_type": "stream",
     "text": [
      "home_workout_2018_2023    47.0\n",
      "gym_workout_2018_2023     38.0\n",
      "home_gym_2018_2023        15.0\n",
      "Name: Malaysia, dtype: float64\n"
     ]
    }
   ],
   "source": [
    "print(df_three_keywords_geo.loc[\"Malaysia\", :])"
   ]
  },
  {
   "cell_type": "code",
   "execution_count": 52,
   "id": "2e6cdd01",
   "metadata": {},
   "outputs": [],
   "source": [
    "home_workout_geo = \"Philippines\""
   ]
  }
 ],
 "metadata": {
  "kernelspec": {
   "display_name": "Python 3 (ipykernel)",
   "language": "python",
   "name": "python3"
  },
  "language_info": {
   "codemirror_mode": {
    "name": "ipython",
    "version": 3
   },
   "file_extension": ".py",
   "mimetype": "text/x-python",
   "name": "python",
   "nbconvert_exporter": "python",
   "pygments_lexer": "ipython3",
   "version": "3.9.13"
  }
 },
 "nbformat": 4,
 "nbformat_minor": 5
}
